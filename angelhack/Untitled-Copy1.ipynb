{
 "cells": [
  {
   "cell_type": "code",
   "execution_count": 100,
   "metadata": {},
   "outputs": [],
   "source": [
    "import bs4 as bs\n",
    "import urllib.request\n",
    "import requests"
   ]
  },
  {
   "cell_type": "code",
   "execution_count": 128,
   "metadata": {},
   "outputs": [],
   "source": [
    "source = urllib.request.urlopen('https://bbc.com')\n",
    "soup= bs.BeautifulSoup( source, 'html.parser')"
   ]
  },
  {
   "cell_type": "code",
   "execution_count": 134,
   "metadata": {},
   "outputs": [],
   "source": [
    "####For demo we changed disasters to other topics to show how this code\n",
    "####works, but on deployment the keywords would change\n",
    "####Currently, the world seems safe as per bbc.com (british news agency)\n",
    "#disasters= [ 'volcano', 'volcanic eruption', 'earthquake', 'quake', 'flood', 'typhoon', 'hurricane', 'storm', 'hail', 'disaster', 'rainstorm', 'landslide', 'leakage', 'chemical leakage', 'tornado']\n",
    "disasters= ['trump', 'immigration', 'diabetes']\n",
    "#Volcano, Earthquake, Waterflood, Hail, Snow, Tornado, Hurricane\n",
    "behaviors= [\"Stay away from active volcanoes, Use goggles mask and flashlight, Drive rather than walk, Close all windows doors and fireplace, If caught in a rockfall roll into a ball to protect your head\",\"Stay away from active volcanoes, Use goggles mask and flashlight, Drive rather than walk, Close all windows doors and fireplace, If caught in a rockfall roll into a ball to protect your head\",\"Do not wait until you see rising water, Get out of low areas and move to high ground, Do not drive through flooded areas, Keep clear of power lines and electrical wires\",\"Stay Indoors, If driving pull to a safe place so hail doesn't break the windshield\",\"Keep your thermostat as high as possible for as long as you have electricity, Stay inside, Limit travel to emergencies only, Keep pipes from freezing by turning on every water faucet to a slow drip, Wear dry or waterproof clothes, Stay hydrated with plenty of fluids\",\"Go to the basement or take shelter in a small interior ground floor room such as a bathroom closet or hallway, If you have no basement protect yourself by taking shelter under a heavy table or desk, Stay away from windows outside walls and doors\",\"Go to the basement or take shelter in a small interior ground floor room such as a bathroom closet or hallway, If you have no basement protect yourself by taking shelter under a heavy table or desk, Stay away from windows outside walls and doors\"]"
   ]
  },
  {
   "cell_type": "code",
   "execution_count": 144,
   "metadata": {},
   "outputs": [],
   "source": [
    "sites= []\n",
    "h3s= soup.find_all('h3')\n",
    "for tag in h3s:\n",
    "    for keyword in tag.getText().lower().split():\n",
    "        if keyword in disasters:\n",
    "            a= tag.find('a', href= True)\n",
    "            if a:\n",
    "                sites.append( a['href'])\n",
    "h2s= soup.find_all( 'h2')\n",
    "for tag in h2s:\n",
    "    for keyword in tag.getText().lower().split():\n",
    "        if keyword in disasters:\n",
    "            a= tag.find('a', href= True)\n",
    "            if a:\n",
    "                sites.append( a['href'])\n",
    "for i, href in enumerate( sites):\n",
    "    if 'bbc.com' not in href:\n",
    "        sites[ i]= ''.join( [ 'bbc.com', href])"
   ]
  },
  {
   "cell_type": "code",
   "execution_count": 142,
   "metadata": {},
   "outputs": [],
   "source": [
    "h2s[0].find('a', href= True)"
   ]
  },
  {
   "cell_type": "code",
   "execution_count": 145,
   "metadata": {},
   "outputs": [
    {
     "data": {
      "text/plain": [
       "['bbc.com/news/uk-48978484', 'bbc.com/news/world-us-canada-48978394']"
      ]
     },
     "execution_count": 145,
     "metadata": {},
     "output_type": "execute_result"
    }
   ],
   "source": [
    "sites"
   ]
  },
  {
   "cell_type": "code",
   "execution_count": null,
   "metadata": {},
   "outputs": [],
   "source": []
  },
  {
   "cell_type": "code",
   "execution_count": 146,
   "metadata": {},
   "outputs": [],
   "source": [
    "headers = {'Content-Type': 'application/json',}\n",
    "params = (('version', '2018-11-16'),)\n",
    "responses= []\n",
    "for site in sites:\n",
    "    data = '{\\n  \"url\": \"' + site + '\",\\n  \"features\": {\\n    \"sentiment\": {},\\n    \"categories\": {},\\n    \"concepts\": {},\\n    \"emotion\": {},\\n    \"entities\": {},\\n    \"keywords\": {}\\n  }\\n}'\n",
    "    responses.append( requests.post('https://gateway-tok.watsonplatform.net/natural-language-understanding/api/v1/analyze', headers=headers, params=params, data=data, auth=('apikey', 'rwvQDylZAfkwqNKwPqNdmiTt-Hdbd8rL7raHoJe4NMjz')))"
   ]
  },
  {
   "cell_type": "code",
   "execution_count": 82,
   "metadata": {},
   "outputs": [
    {
     "data": {
      "text/plain": [
       "{'usage': {'text_units': 1, 'text_characters': 1282, 'features': 6},\n",
       " 'sentiment': {'document': {'score': -0.330014, 'label': 'negative'}},\n",
       " 'retrieved_url': 'https://www.bbc.com/news/world-asia-48973515',\n",
       " 'language': 'en',\n",
       " 'keywords': [{'text': 'opposition leader Prabowo Subianto',\n",
       "   'relevance': 0.785706,\n",
       "   'count': 1},\n",
       "  {'text': 'Indonesian President Joko Widodo',\n",
       "   'relevance': 0.753607,\n",
       "   'count': 1},\n",
       "  {'text': 'opposition leader', 'relevance': 0.62362, 'count': 1},\n",
       "  {'text': 'mass rapid transit', 'relevance': 0.600881, 'count': 1},\n",
       "  {'text': 'opposition supporters', 'relevance': 0.590287, 'count': 1},\n",
       "  {'text': 'Prabowo Subianto', 'relevance': 0.585913, 'count': 1},\n",
       "  {'text': 'Mr Widodo', 'relevance': 0.585142, 'count': 1},\n",
       "  {'text': 'global competition', 'relevance': 0.580699, 'count': 1},\n",
       "  {'text': \"Indonesia's Constitutional Court\",\n",
       "   'relevance': 0.571843,\n",
       "   'count': 1},\n",
       "  {'text': 'president', 'relevance': 0.569598, 'count': 3},\n",
       "  {'text': 'fellow countrymen', 'relevance': 0.56122, 'count': 1},\n",
       "  {'text': \"Jakarta's new transit system\", 'relevance': 0.542977, 'count': 1},\n",
       "  {'text': 'people', 'relevance': 0.541359, 'count': 2},\n",
       "  {'text': 'President Widodo', 'relevance': 0.530619, 'count': 1},\n",
       "  {'text': 'pair', 'relevance': 0.52845, 'count': 1},\n",
       "  {'text': 'rival', 'relevance': 0.526932, 'count': 2},\n",
       "  {'text': 'nation', 'relevance': 0.522153, 'count': 1},\n",
       "  {'text': 'manners', 'relevance': 0.520236, 'count': 1},\n",
       "  {'text': 'person', 'relevance': 0.519418, 'count': 1},\n",
       "  {'text': 'April', 'relevance': 0.516398, 'count': 1},\n",
       "  {'text': 'arrangement', 'relevance': 0.516133, 'count': 1},\n",
       "  {'text': 'victory', 'relevance': 0.514294, 'count': 1},\n",
       "  {'text': 'country', 'relevance': 0.513146, 'count': 1},\n",
       "  {'text': 'suit', 'relevance': 0.511509, 'count': 1},\n",
       "  {'text': 'MRT', 'relevance': 0.511411, 'count': 1},\n",
       "  {'text': 'problems', 'relevance': 0.511147, 'count': 1},\n",
       "  {'text': 'differences', 'relevance': 0.510953, 'count': 1},\n",
       "  {'text': 'supporters', 'relevance': 0.508952, 'count': 1},\n",
       "  {'text': 'protests', 'relevance': 0.505995, 'count': 1},\n",
       "  {'text': 'Indonesian capital', 'relevance': 0.504333, 'count': 1},\n",
       "  {'text': 'train', 'relevance': 0.504078, 'count': 1},\n",
       "  {'text': 'results', 'relevance': 0.504078, 'count': 1},\n",
       "  {'text': 'first time', 'relevance': 0.503897, 'count': 1},\n",
       "  {'text': 'bitter presidential election', 'relevance': 0.491125, 'count': 1},\n",
       "  {'text': 'last month', 'relevance': 0.485036, 'count': 1},\n",
       "  {'text': 'Jokowi', 'relevance': 0.457707, 'count': 1},\n",
       "  {'text': 'Prabowo', 'relevance': 0.457633, 'count': 1},\n",
       "  {'text': 'Saturday', 'relevance': 0.454385, 'count': 1},\n",
       "  {'text': 'cheating', 'relevance': 0.450411, 'count': 1},\n",
       "  {'text': 'system', 'relevance': 0.443324, 'count': 1}],\n",
       " 'entities': [{'type': 'Person',\n",
       "   'text': 'President Widodo',\n",
       "   'relevance': 0.928225,\n",
       "   'count': 2},\n",
       "  {'type': 'Person',\n",
       "   'text': 'President Joko Widodo',\n",
       "   'relevance': 0.818471,\n",
       "   'disambiguation': {'subtype': [],\n",
       "    'name': 'Joko Widodo',\n",
       "    'dbpedia_resource': 'http://dbpedia.org/resource/Joko_Widodo'},\n",
       "   'count': 1},\n",
       "  {'type': 'Person',\n",
       "   'text': 'Prabowo Subianto',\n",
       "   'relevance': 0.773445,\n",
       "   'disambiguation': {'subtype': ['Politician'],\n",
       "    'name': 'Prabowo Subianto',\n",
       "    'dbpedia_resource': 'http://dbpedia.org/resource/Prabowo_Subianto'},\n",
       "   'count': 4},\n",
       "  {'type': 'JobTitle', 'text': 'president', 'relevance': 0.471997, 'count': 3},\n",
       "  {'type': 'Location',\n",
       "   'text': 'Jakarta',\n",
       "   'relevance': 0.271008,\n",
       "   'disambiguation': {'subtype': ['AdministrativeDivision',\n",
       "     'GovernmentalJurisdiction',\n",
       "     'IndonesianCity',\n",
       "     'IndonesianProvince',\n",
       "     'City'],\n",
       "    'name': 'Jakarta',\n",
       "    'dbpedia_resource': 'http://dbpedia.org/resource/Jakarta'},\n",
       "   'count': 1},\n",
       "  {'type': 'Organization',\n",
       "   'text': 'Constitutional Court',\n",
       "   'relevance': 0.268983,\n",
       "   'count': 1},\n",
       "  {'type': 'Location',\n",
       "   'text': 'Indonesia',\n",
       "   'relevance': 0.261968,\n",
       "   'disambiguation': {'subtype': ['AdministrativeDivision',\n",
       "     'GovernmentalJurisdiction',\n",
       "     'Country'],\n",
       "    'name': 'Indonesia',\n",
       "    'dbpedia_resource': 'http://dbpedia.org/resource/Indonesia'},\n",
       "   'count': 1},\n",
       "  {'type': 'Person', 'text': 'Jokowi', 'relevance': 0.219222, 'count': 2}],\n",
       " 'emotion': {'document': {'emotion': {'sadness': 0.181172,\n",
       "    'joy': 0.642088,\n",
       "    'fear': 0.063558,\n",
       "    'disgust': 0.222229,\n",
       "    'anger': 0.466655}}},\n",
       " 'concepts': [{'text': 'United States',\n",
       "   'relevance': 0.952839,\n",
       "   'dbpedia_resource': 'http://dbpedia.org/resource/United_States'},\n",
       "  {'text': 'Indonesia',\n",
       "   'relevance': 0.80779,\n",
       "   'dbpedia_resource': 'http://dbpedia.org/resource/Indonesia'},\n",
       "  {'text': 'President of the United States',\n",
       "   'relevance': 0.799194,\n",
       "   'dbpedia_resource': 'http://dbpedia.org/resource/President_of_the_United_States'},\n",
       "  {'text': 'Rapid transit',\n",
       "   'relevance': 0.707787,\n",
       "   'dbpedia_resource': 'http://dbpedia.org/resource/Rapid_transit'},\n",
       "  {'text': 'Public transport',\n",
       "   'relevance': 0.673251,\n",
       "   'dbpedia_resource': 'http://dbpedia.org/resource/Public_transport'},\n",
       "  {'text': 'Leader of the Opposition',\n",
       "   'relevance': 0.663366,\n",
       "   'dbpedia_resource': 'http://dbpedia.org/resource/Leader_of_the_Opposition'},\n",
       "  {'text': 'President',\n",
       "   'relevance': 0.662325,\n",
       "   'dbpedia_resource': 'http://dbpedia.org/resource/President'},\n",
       "  {'text': 'United States Constitution',\n",
       "   'relevance': 0.637952,\n",
       "   'dbpedia_resource': 'http://dbpedia.org/resource/United_States_Constitution'}],\n",
       " 'categories': [{'score': 0.683314, 'label': '/law, govt and politics'},\n",
       "  {'score': 0.639445,\n",
       "   'label': '/law, govt and politics/politics/political parties'},\n",
       "  {'score': 0.626481, 'label': '/society/unrest and war'}]}"
      ]
     },
     "execution_count": 82,
     "metadata": {},
     "output_type": "execute_result"
    }
   ],
   "source": [
    "responses[0].json()"
   ]
  },
  {
   "cell_type": "code",
   "execution_count": 83,
   "metadata": {},
   "outputs": [
    {
     "data": {
      "text/plain": [
       "'opposition leader Prabowo Subianto'"
      ]
     },
     "execution_count": 83,
     "metadata": {},
     "output_type": "execute_result"
    }
   ],
   "source": [
    "responses[0].json()['keywords'][0]['text']#['score']"
   ]
  },
  {
   "cell_type": "code",
   "execution_count": 84,
   "metadata": {},
   "outputs": [
    {
     "data": {
      "text/plain": [
       "['leader', 'rival', 'witness']"
      ]
     },
     "execution_count": 84,
     "metadata": {},
     "output_type": "execute_result"
    }
   ],
   "source": [
    "disasters"
   ]
  },
  {
   "cell_type": "code",
   "execution_count": 92,
   "metadata": {},
   "outputs": [
    {
     "data": {
      "text/plain": [
       "-0.330014"
      ]
     },
     "execution_count": 92,
     "metadata": {},
     "output_type": "execute_result"
    }
   ],
   "source": [
    "responses[0].json()['sentiment']['document']['score']"
   ]
  },
  {
   "cell_type": "code",
   "execution_count": 180,
   "metadata": {},
   "outputs": [],
   "source": [
    "news_feed= []\n",
    "for response in responses:\n",
    "    #threshold should change during deployment to -0.5\n",
    "    if response.json()['sentiment']['document']['score'] < 1:\n",
    "        current_news_feed= dict()\n",
    "        type_of_disaster= ''\n",
    "        location= []\n",
    "        for i in range( 10):\n",
    "            words= response.json()['keywords'][i]['text'].lower().split()\n",
    "            for word in words:\n",
    "                if word in disasters:\n",
    "                    type_of_disaster= word\n",
    "                    break\n",
    "            if len(type_of_disaster) > 0:\n",
    "                break\n",
    "        if len( type_of_disaster) > 0:\n",
    "            current_news_feed[ 'type']= type_of_disaster\n",
    "            for entity in response.json()['entities']:\n",
    "                if entity['type'] == 'Location':\n",
    "                    for dis in entity['disambiguation']['subtype']:\n",
    "                        if dis in [ 'City', 'Country'] and dis not in location:\n",
    "                            location.append( dis)\n",
    "                            current_news_feed[ dis]= entity[ 'text']\n",
    "                if len( location) == 2:\n",
    "                    break\n",
    "        if len( current_news_feed) > 0:\n",
    "            news_feed.append( current_news_feed)"
   ]
  },
  {
   "cell_type": "code",
   "execution_count": 148,
   "metadata": {},
   "outputs": [
    {
     "data": {
      "text/plain": [
       "[{'type': 'immigration', 'City': 'Tacoma'}]"
      ]
     },
     "execution_count": 148,
     "metadata": {},
     "output_type": "execute_result"
    }
   ],
   "source": [
    "news_feed"
   ]
  },
  {
   "cell_type": "code",
   "execution_count": 184,
   "metadata": {},
   "outputs": [
    {
     "ename": "TypeError",
     "evalue": "list indices must be integers or slices, not str",
     "output_type": "error",
     "traceback": [
      "\u001b[0;31m---------------------------------------------------------------------------\u001b[0m",
      "\u001b[0;31mTypeError\u001b[0m                                 Traceback (most recent call last)",
      "\u001b[0;32m<ipython-input-184-3686c1cd0cf8>\u001b[0m in \u001b[0;36m<module>\u001b[0;34m()\u001b[0m\n\u001b[1;32m     16\u001b[0m \u001b[0;31m#    data = '{\"text\": [\"'+ behaviors[ info_code] +'\"], \"model_id\":\"en-es\"}'\u001b[0m\u001b[0;34m\u001b[0m\u001b[0;34m\u001b[0m\u001b[0;34m\u001b[0m\u001b[0m\n\u001b[1;32m     17\u001b[0m     \u001b[0mresponse\u001b[0m \u001b[0;34m=\u001b[0m \u001b[0mrequests\u001b[0m\u001b[0;34m.\u001b[0m\u001b[0mpost\u001b[0m\u001b[0;34m(\u001b[0m\u001b[0;34m'https://gateway-lon.watsonplatform.net/language-translator/api/v3/translate'\u001b[0m\u001b[0;34m,\u001b[0m \u001b[0mheaders\u001b[0m\u001b[0;34m=\u001b[0m\u001b[0mheaders\u001b[0m\u001b[0;34m,\u001b[0m \u001b[0mparams\u001b[0m\u001b[0;34m=\u001b[0m\u001b[0mparams\u001b[0m\u001b[0;34m,\u001b[0m \u001b[0mdata\u001b[0m\u001b[0;34m=\u001b[0m\u001b[0mdata\u001b[0m\u001b[0;34m,\u001b[0m \u001b[0mauth\u001b[0m\u001b[0;34m=\u001b[0m\u001b[0;34m(\u001b[0m\u001b[0;34m'apikey'\u001b[0m\u001b[0;34m,\u001b[0m \u001b[0;34m'eFT3phEGmpEQqmqm1pRrUQS_H7dxEBIwRfYIEBOhA7MD'\u001b[0m\u001b[0;34m)\u001b[0m\u001b[0;34m)\u001b[0m\u001b[0;34m\u001b[0m\u001b[0;34m\u001b[0m\u001b[0m\n\u001b[0;32m---> 18\u001b[0;31m     \u001b[0mfile\u001b[0m\u001b[0;34m.\u001b[0m\u001b[0mwrite\u001b[0m\u001b[0;34m(\u001b[0m\u001b[0mnews\u001b[0m\u001b[0;34m[\u001b[0m\u001b[0;34m'type'\u001b[0m\u001b[0;34m]\u001b[0m \u001b[0;34m+\u001b[0m \u001b[0;34m\"in\"\u001b[0m \u001b[0;34m+\u001b[0m \u001b[0mnews\u001b[0m\u001b[0;34m[\u001b[0m\u001b[0;34m'City'\u001b[0m\u001b[0;34m]\u001b[0m \u001b[0;34m+\u001b[0m \u001b[0;34m\" \"\u001b[0m \u001b[0;34m+\u001b[0m \u001b[0mnews\u001b[0m\u001b[0;34m[\u001b[0m \u001b[0;34m'Country'\u001b[0m\u001b[0;34m]\u001b[0m \u001b[0;34m+\u001b[0m \u001b[0;34m\"\\n\"\u001b[0m \u001b[0;34m+\u001b[0m \u001b[0mresponse\u001b[0m\u001b[0;34m.\u001b[0m\u001b[0mjson\u001b[0m\u001b[0;34m(\u001b[0m\u001b[0;34m)\u001b[0m\u001b[0;34m[\u001b[0m\u001b[0;34m'translations'\u001b[0m\u001b[0;34m]\u001b[0m\u001b[0;34m[\u001b[0m\u001b[0;34m'translation'\u001b[0m\u001b[0;34m]\u001b[0m\u001b[0;34m)\u001b[0m\u001b[0;34m\u001b[0m\u001b[0;34m\u001b[0m\u001b[0m\n\u001b[0m\u001b[1;32m     19\u001b[0m     \u001b[0mfile\u001b[0m\u001b[0;34m.\u001b[0m\u001b[0mclose\u001b[0m\u001b[0;34m(\u001b[0m\u001b[0;34m)\u001b[0m\u001b[0;34m\u001b[0m\u001b[0;34m\u001b[0m\u001b[0m\n",
      "\u001b[0;31mTypeError\u001b[0m: list indices must be integers or slices, not str"
     ]
    }
   ],
   "source": [
    "for news in news_feed:\n",
    "    if news['type']== 'trump':\n",
    "        info_code= 1\n",
    "    elif news['type']== 'diabetes':\n",
    "        info_code= 2\n",
    "    else:\n",
    "        info_code= 3\n",
    "    if news['Country']== 'China':\n",
    "        lang_code= 'zh'\n",
    "    elif news['Country']== 'India':\n",
    "        lang_code= 'hi'\n",
    "    else:\n",
    "        lang_code= 'en'\n",
    "    file = open( news['City'] + \".txt\", \"w\")\n",
    "    data = '{\"text\": [\"'+ behaviors[ info_code] +'\"], \"model_id\":\"en-es\"}'\n",
    "    response = requests.post('https://gateway-lon.watsonplatform.net/language-translator/api/v3/translate', headers=headers, params=params, data=data, auth=('apikey', 'eFT3phEGmpEQqmqm1pRrUQS_H7dxEBIwRfYIEBOhA7MD'))\n",
    "    file.write(news['type'] + \"in\" + news['City'] + \" \" + news[ 'Country'] + \"\\n\" + response.json()['translations']['translation']) \n",
    "    file.close() "
   ]
  },
  {
   "cell_type": "code",
   "execution_count": null,
   "metadata": {},
   "outputs": [],
   "source": []
  }
 ],
 "metadata": {
  "kernelspec": {
   "display_name": "Python 3",
   "language": "python",
   "name": "python3"
  },
  "language_info": {
   "codemirror_mode": {
    "name": "ipython",
    "version": 3
   },
   "file_extension": ".py",
   "mimetype": "text/x-python",
   "name": "python",
   "nbconvert_exporter": "python",
   "pygments_lexer": "ipython3",
   "version": "3.7.3"
  }
 },
 "nbformat": 4,
 "nbformat_minor": 2
}
